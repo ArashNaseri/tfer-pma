{
 "cells": [
  {
   "cell_type": "markdown",
   "metadata": {},
   "source": [
    "## A simple demonstration of this codebase\n",
    "\n",
    "This Jupyter notebook demonstrates use of this code to produce estimates of the transfer function of a particle mass analyzer. To start, import the numpy library and, since we will be plotting data, the matplotlib.pyplot module: "
   ]
  },
  {
   "cell_type": "code",
   "execution_count": 1,
   "metadata": {},
   "outputs": [],
   "source": [
    "# import functions\n",
    "import matplotlib.pyplot as plt\n",
    "import numpy as np\n",
    "\n",
    "import json # import this package only to visualize the dictionary contents"
   ]
  },
  {
   "cell_type": "markdown",
   "metadata": {},
   "source": [
    "Also, import the tfer_pma module, which contains the relevant functions to evaluate the transfer function using the analytical methods from Sipkens, Olfert, and Rogak (2020a):"
   ]
  },
  {
   "cell_type": "code",
   "execution_count": 2,
   "metadata": {},
   "outputs": [],
   "source": [
    "import tfer_pma # import relevant functions to evaluate the PMA transfer function"
   ]
  },
  {
   "cell_type": "markdown",
   "metadata": {},
   "source": [
    "Now define some fundamental properties, including the mass setpoint, `m_star`; the masses at which to evaluate the transfer function, `m`; the mobility diameter of the particles, `d` (note, using `d = None` will result in using the mass-mobility relation, using the values in the `prop` dictionary defined below); and the integer charge state at which to evaluate the transfer function, `z`:"
   ]
  },
  {
   "cell_type": "code",
   "execution_count": 3,
   "metadata": {},
   "outputs": [],
   "source": [
    "# define input variables\n",
    "m_star = 0.01e-18\n",
    "m = np.arange(0.8,1.2,0.001) * m_star # numpy array spanning 80 to 120% m_star\n",
    "d = None # mobility diameter (none uses mass-mobility relation)\n",
    "z = 1. # integer charge state"
   ]
  },
  {
   "cell_type": "markdown",
   "metadata": {},
   "source": [
    "Next, generate a dictionary that contains the properties of the particle mass analyzer, such as its geometry dimensions. Here, we also modify the default mass-mobility parameters to be used in the remainder of the program:  "
   ]
  },
  {
   "cell_type": "code",
   "execution_count": 4,
   "metadata": {},
   "outputs": [],
   "source": [
    "prop = prop_pma() # get default PMA properties\n",
    "\n",
    "# Modify some of the properties, \n",
    "# in this case for the mass-mobility relation.\n",
    "rho_eff = 900; # effective density\n",
    "prop['Dm'] = 3\n",
    "prop['m0'] = rho_eff * np.pi / 6 * 1e-27; # copy mass-mobility relation info (only used to find Rm)"
   ]
  },
  {
   "cell_type": "markdown",
   "metadata": {},
   "source": [
    "Now we generate a setpoint dictionary. This quantity is crucial in this program, taking the `prop` dictionary generated above and two name-value pair arguments that specify the setpoint for the PMA. For example, using the mass setpoint `m_star` above and a resolution (as defined by Reavell, Symonds, and Rushton (2011)) of 10, we can compute the other relevant parameters to describe the PMA setpoint using:"
   ]
  },
  {
   "cell_type": "code",
   "execution_count": 5,
   "metadata": {},
   "outputs": [
    {
     "name": "stdout",
     "output_type": "stream",
     "text": [
      "{\n",
      "  \"m_star\": 1e-20,\n",
      "  \"V\": 24.436513731427873,\n",
      "  \"omega\": 2543.856712233343,\n",
      "  \"omega1\": 2583.485676310511,\n",
      "  \"Rm\": 10,\n",
      "  \"m_max\": 1.1e-20,\n",
      "  \"alpha\": 175.98499973865938,\n",
      "  \"beta\": 8.667002435658667,\n",
      "  \"omega2\": 2505.198231573829\n",
      "}\n"
     ]
    }
   ],
   "source": [
    "sp,_ = tfer_pma.get_setpoint(prop, 'm_star', m_star, 'Rm', 10)\n",
    "print(json.dumps(sp, indent = 2)) # print dictionary in JSON format"
   ]
  },
  {
   "cell_type": "markdown",
   "metadata": {},
   "source": [
    "The output dictionary will also contain information like the voltage, `sp['V']`; angular speeds of the inner and outer electrodes, `sp['omega1']` and `sp['omega2']`, respectively; among other relevant properties. One can also use other pairings, such as specifying the voltage and centerline rotation speed: "
   ]
  },
  {
   "cell_type": "code",
   "execution_count": 6,
   "metadata": {},
   "outputs": [
    {
     "name": "stdout",
     "output_type": "stream",
     "text": [
      "Finding resolution...\n",
      "Optimization terminated successfully.\n",
      "         Current function value: 0.000000\n",
      "         Iterations: 20\n",
      "         Function evaluations: 40\n",
      "Complete.\n",
      " \n",
      "{\n",
      "  \"m_star\": 1.0001086291978118e-20,\n",
      "  \"V\": 24.44,\n",
      "  \"omega\": 2543.8999999999996,\n",
      "  \"omega1\": 2583.529638427001,\n",
      "  \"Rm\": 10.00079345703125,\n",
      "  \"alpha\": 175.9879944032437,\n",
      "  \"beta\": 8.667149918485526,\n",
      "  \"omega2\": 2505.240861504971,\n",
      "  \"m_max\": 1.1001115573149468e-20\n",
      "}\n"
     ]
    }
   ],
   "source": [
    "sp,_ = tfer_pma.get_setpoint(prop, 'V', 24.44, 'omega', 2543.9)\n",
    "print(json.dumps(sp, indent = 2)) # print dictionary in JSON format"
   ]
  },
  {
   "cell_type": "markdown",
   "metadata": {},
   "source": [
    "This should give a similar setpoint to the preceding statement, but specifies the setpoint in a different way. It is worth noting that most combinations of two of these parameters will be sufficient to specify to setpoint, with the exception of combining the rotational speed or voltage with a resolution, which will result in an error. \n",
    "\n",
    "Finally, let's evaluate the transfer function for some of the cases considered in Sipkens, Olfert, and Rogak (2020a). First, consider **Case 1S**, where the fluid velocity profile is approximated using a 1st-order Taylor series expansion about the equilibrium radius. To do so: "
   ]
  },
  {
   "cell_type": "code",
   "execution_count": 7,
   "metadata": {},
   "outputs": [
    {
     "name": "stdout",
     "output_type": "stream",
     "text": [
      "Invoking mass-mobility relation to determine Zp.\n"
     ]
    }
   ],
   "source": [
    "# evaluate the transfer functions\n",
    "Lambda_1S,_ = tfer_pma.tfer_1S(sp, m, d, z, prop)"
   ]
  },
  {
   "cell_type": "markdown",
   "metadata": {},
   "source": [
    "Here, `Lambda_1S` will be a numpy array of the same length as `m`. The other expressions from Sipkens, Olfert, and Rogak (2020a) can be realized using different methods from tfer_pma module, generally adopting intuitive names corresponding to the case codes from that work. For example, for **Case 1C**: "
   ]
  },
  {
   "cell_type": "code",
   "execution_count": 8,
   "metadata": {},
   "outputs": [
    {
     "name": "stdout",
     "output_type": "stream",
     "text": [
      "Invoking mass-mobility relation to determine Zp.\n"
     ]
    }
   ],
   "source": [
    "Lambda_1C,_ = tfer_pma.tfer_1C(sp, m, d, z, prop)"
   ]
  },
  {
   "cell_type": "markdown",
   "metadata": {},
   "source": [
    "Adding diffusion to this scenario can be done by adding `_diff` to the end of the method name above: "
   ]
  },
  {
   "cell_type": "code",
   "execution_count": 9,
   "metadata": {},
   "outputs": [
    {
     "name": "stdout",
     "output_type": "stream",
     "text": [
      "Invoking mass-mobility relation to determine Zp.\n",
      "Invoking mass-mobility relation to determine Zp.\n"
     ]
    }
   ],
   "source": [
    "Lambda_1C_diff,_ = tfer_pma.tfer_1C_diff(sp, m, d, z, prop)"
   ]
  },
  {
   "cell_type": "markdown",
   "metadata": {},
   "source": [
    "To finish, plot the evaluate transfer functions,, with the result resembling some of the plots in Sipkens, Olfert, and Rogak (2020a):"
   ]
  },
  {
   "cell_type": "code",
   "execution_count": 10,
   "metadata": {},
   "outputs": [
    {
     "data": {
      "image/png": "[encoded data removed]",
      "text/plain": [
       "<Figure size 432x288 with 1 Axes>"
      ]
     },
     "metadata": {
      "needs_background": "light"
     },
     "output_type": "display_data"
    }
   ],
   "source": [
    "# plot the various transfer functions \n",
    "fig, ax = plt.subplots()\n",
    "ax.plot(m, Lambda_1S)\n",
    "ax.plot(m, Lambda_1C)\n",
    "ax.plot(m, Lambda_1C_diff, 'k--')\n",
    "if prop['omega_hat']==1:\n",
    "    ax.plot(m, Lambda_W1)\n",
    "    ax.plot(m, Lambda_W1_diff)\n",
    "\n",
    "ax.set_xlabel('Mass, m [fg]')\n",
    "ax.set_ylabel('Transfer function, Λ')\n",
    "ax.set_xlim(np.min(m), np.max(m))\n",
    "\n",
    "plt.show()"
   ]
  },
  {
   "cell_type": "markdown",
   "metadata": {},
   "source": [
    "We can also evaluate the transfer function at different integer charge states, by changing the third argument to these functions: "
   ]
  },
  {
   "cell_type": "code",
   "execution_count": 11,
   "metadata": {},
   "outputs": [
    {
     "name": "stdout",
     "output_type": "stream",
     "text": [
      "Invoking mass-mobility relation to determine Zp.\n",
      "Invoking mass-mobility relation to determine Zp.\n",
      "Invoking mass-mobility relation to determine Zp.\n",
      "Invoking mass-mobility relation to determine Zp.\n",
      "Invoking mass-mobility relation to determine Zp.\n",
      "Invoking mass-mobility relation to determine Zp.\n"
     ]
    },
    {
     "data": {
      "image/png": "[encoded data removed]",
      "text/plain": [
       "<Figure size 432x288 with 1 Axes>"
      ]
     },
     "metadata": {
      "needs_background": "light"
     },
     "output_type": "display_data"
    }
   ],
   "source": [
    "# generate second plot demonstrating multiple charging\n",
    "m123 = np.arange(0.6,3.4,0.001) * m_star\n",
    "Lambda_1C_z1,_ = tfer_pma.tfer_1C_diff(sp, m123, d, 1, prop)\n",
    "Lambda_1C_z2,_ = tfer_pma.tfer_1C_diff(sp, m123, d, 2, prop)\n",
    "Lambda_1C_z3,_ = tfer_pma.tfer_1C_diff(sp, m123, d, 3, prop)\n",
    "\n",
    "fig, ax = plt.subplots()\n",
    "ax.plot(m123, Lambda_1C_z1)\n",
    "ax.plot(m123, Lambda_1C_z2)\n",
    "ax.plot(m123, Lambda_1C_z3, 'r')\n",
    "ax.plot(m123, Lambda_1C_z1 + Lambda_1C_z2 + Lambda_1C_z3, 'k:')\n",
    "    # different widths stem from resolution only applying to first peak\n",
    "\n",
    "ax.set_xlabel('Mass, m [fg]')\n",
    "ax.set_ylabel('Transfer function, Λ')\n",
    "ax.set_xlim(np.min(m123), np.max(m123))\n",
    "\n",
    "plt.show()"
   ]
  },
  {
   "cell_type": "code",
   "execution_count": null,
   "metadata": {},
   "outputs": [],
   "source": []
  }
 ],
 "metadata": {
  "kernelspec": {
   "display_name": "Python 3",
   "language": "python",
   "name": "python3"
  },
  "language_info": {
   "codemirror_mode": {
    "name": "ipython",
    "version": 3
   },
   "file_extension": ".py",
   "mimetype": "text/x-python",
   "name": "python",
   "nbconvert_exporter": "python",
   "pygments_lexer": "ipython3",
   "version": "3.8.3"
  }
 },
 "nbformat": 4,
 "nbformat_minor": 4
}
